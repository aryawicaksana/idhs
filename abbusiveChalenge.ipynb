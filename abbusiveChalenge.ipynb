{
  "nbformat": 4,
  "nbformat_minor": 0,
  "metadata": {
    "colab": {
      "name": "Copy of submission1.ipynb",
      "provenance": [],
      "collapsed_sections": [],
      "toc_visible": true,
      "authorship_tag": "ABX9TyPySvc158NJ/KMXHbwrQLZ8",
      "include_colab_link": true
    },
    "kernelspec": {
      "name": "python3",
      "display_name": "Python 3"
    },
    "language_info": {
      "name": "python"
    }
  },
  "cells": [
    {
      "cell_type": "markdown",
      "metadata": {
        "id": "view-in-github",
        "colab_type": "text"
      },
      "source": [
        "<a href=\"https://colab.research.google.com/github/aryawicaksana/idhs/blob/main/abbusiveChalenge.ipynb\" target=\"_parent\"><img src=\"https://colab.research.google.com/assets/colab-badge.svg\" alt=\"Open In Colab\"/></a>"
      ]
    },
    {
      "cell_type": "markdown",
      "metadata": {
        "id": "k-tb7yGW4_1G"
      },
      "source": [
        "# **Pernyataan masalah**\n",
        "\n",
        "Perkembangan media sosial memungkinkan orang untuk mengekspresikan pendapat mereka secara online. Namun, pada saat yang sama, hal ini mengakibatkan munculnya konflik dan kebencian, membuat lingkungan online tidak menarik bagi pengguna. Meskipun para peneliti telah menemukan bahwa kebencian adalah masalah di berbagai platform, ada kekurangan model untuk deteksi kebencian online.\n",
        "\n",
        "Ucapan kebencian atau ujaran kebencian (Inggris: hate speech) adalah tindakan komunikasi yang dilakukan oleh suatu individu atau kelompok dalam bentuk provokasi, hasutan, ataupun hinaan kepada individu atau kelompok yang lain dalam hal berbagai aspek seperti ras, warna kulit, etnis, gender, cacat, orientasi seksual, kewarganegaraan, agama, dan lain-lain.\n"
      ]
    },
    {
      "cell_type": "markdown",
      "metadata": {
        "id": "nEj0bkxh-gao"
      },
      "source": [
        "**Sementara di Indonesia**\n",
        "\n",
        "R. Susilo menerangkan bahwa yang dimaksud dari \"menghina\" adalah \"menyerang kehormatan dan nama baik seseorang\". Yang terkena dampak hate speech biasanya merasa malu. Menurutnya, penghinaan terhadap satu individu ada 6 macam yaitu[9]\n",
        "\n",
        "1. Menista dengan surat/tertulis (smaadschrift)\n",
        "2. Memfitnah (laster)\n",
        "3. Penghinaan ringan (eenvoudige belediging)\n",
        "4. Mengadu secara memfitnah (lasterlijke aanklacht)\n",
        "5. Tuduhan secara memfitnah (lasterlijke verdachtmaking)\n",
        " \n",
        "Semua penghinaan tersebut hanya dapat dituntut jika ada pengaduan dari individu yang terkena dampak penghinaan,"
      ]
    },
    {
      "cell_type": "markdown",
      "metadata": {
        "id": "n5XXhSg47r9k"
      },
      "source": [
        "\n",
        "Tujuan saya adalah membangun prototipe pengklasifikasi komentar kebencian dan pelecehan online yang dapat digunakan untuk mengklasifikasikan komentar kebencian dan menyinggung sehingga dapat dikontrol dan dibatasi dari penyebaran kebencian dan penindasan maya."
      ]
    },
    {
      "cell_type": "code",
      "metadata": {
        "id": "cfoWRJvD46qE"
      },
      "source": [
        "from google.colab import files\n",
        "!pip install -q kaggle"
      ],
      "execution_count": 12,
      "outputs": []
    },
    {
      "cell_type": "code",
      "metadata": {
        "colab": {
          "resources": {
            "http://localhost:8080/nbextensions/google.colab/files.js": {
              "data": "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",
              "ok": true,
              "headers": [
                [
                  "content-type",
                  "application/javascript"
                ]
              ],
              "status": 200,
              "status_text": ""
            }
          },
          "base_uri": "https://localhost:8080/",
          "height": 128
        },
        "id": "7yH4qubhASmg",
        "outputId": "a1677ee4-bc0c-49ff-a7b3-2aac5e555473"
      },
      "source": [
        "uploaded = files.upload()\n",
        "!mv /content/kaggle.json /root/.kaggle/kaggle.json\n",
        "!chmod 600 /root/.kaggle/kaggle.json\n",
        "!kaggle datasets download -d ilhamfp31/indonesian-abusive-and-hate-speech-twitter-text"
      ],
      "execution_count": 14,
      "outputs": [
        {
          "output_type": "display_data",
          "data": {
            "text/html": [
              "\n",
              "     <input type=\"file\" id=\"files-8c28fca0-c502-4e6a-ae2f-1e219264811a\" name=\"files[]\" multiple disabled\n",
              "        style=\"border:none\" />\n",
              "     <output id=\"result-8c28fca0-c502-4e6a-ae2f-1e219264811a\">\n",
              "      Upload widget is only available when the cell has been executed in the\n",
              "      current browser session. Please rerun this cell to enable.\n",
              "      </output>\n",
              "      <script src=\"/nbextensions/google.colab/files.js\"></script> "
            ],
            "text/plain": [
              "<IPython.core.display.HTML object>"
            ]
          },
          "metadata": {
            "tags": []
          }
        },
        {
          "output_type": "stream",
          "text": [
            "Saving kaggle.json to kaggle (1).json\n",
            "Downloading indonesian-abusive-and-hate-speech-twitter-text.zip to /content\n",
            "  0% 0.00/814k [00:00<?, ?B/s]\n",
            "100% 814k/814k [00:00<00:00, 55.4MB/s]\n"
          ],
          "name": "stdout"
        }
      ]
    },
    {
      "cell_type": "code",
      "metadata": {
        "colab": {
          "base_uri": "https://localhost:8080/"
        },
        "id": "aNgva8qWByoA",
        "outputId": "8440854d-bad2-4974-9967-f56fd353c157"
      },
      "source": [
        "!unzip indonesian-abusive-and-hate-speech-twitter-text.zip"
      ],
      "execution_count": 15,
      "outputs": [
        {
          "output_type": "stream",
          "text": [
            "Archive:  indonesian-abusive-and-hate-speech-twitter-text.zip\n",
            "  inflating: README.md               \n",
            "  inflating: abusive.csv             \n",
            "  inflating: citation.bib            \n",
            "  inflating: data.csv                \n",
            "  inflating: new_kamusalay.csv       \n"
          ],
          "name": "stdout"
        }
      ]
    },
    {
      "cell_type": "code",
      "metadata": {
        "id": "7zvvNWt7BY2P"
      },
      "source": [
        "import pandas as pd\n",
        "df = pd.read_csv('data.csv', encoding = \"ISO-8859-1\")\n",
        "kamus = pd.read_csv('new_kamusalay.csv', encoding = \"ISO-8859-1\")"
      ],
      "execution_count": 16,
      "outputs": []
    },
    {
      "cell_type": "code",
      "metadata": {
        "colab": {
          "base_uri": "https://localhost:8080/",
          "height": 272
        },
        "id": "_kPYMUtyDZsg",
        "outputId": "0f9f2122-fb24-4ce3-e2e1-b08cb6df94e1"
      },
      "source": [
        "df.head()"
      ],
      "execution_count": 28,
      "outputs": [
        {
          "output_type": "execute_result",
          "data": {
            "text/html": [
              "<div>\n",
              "<style scoped>\n",
              "    .dataframe tbody tr th:only-of-type {\n",
              "        vertical-align: middle;\n",
              "    }\n",
              "\n",
              "    .dataframe tbody tr th {\n",
              "        vertical-align: top;\n",
              "    }\n",
              "\n",
              "    .dataframe thead th {\n",
              "        text-align: right;\n",
              "    }\n",
              "</style>\n",
              "<table border=\"1\" class=\"dataframe\">\n",
              "  <thead>\n",
              "    <tr style=\"text-align: right;\">\n",
              "      <th></th>\n",
              "      <th>Tweet</th>\n",
              "      <th>HS</th>\n",
              "      <th>Abusive</th>\n",
              "      <th>HS_Individual</th>\n",
              "      <th>HS_Group</th>\n",
              "      <th>HS_Religion</th>\n",
              "      <th>HS_Race</th>\n",
              "      <th>HS_Physical</th>\n",
              "      <th>HS_Gender</th>\n",
              "      <th>HS_Other</th>\n",
              "      <th>HS_Weak</th>\n",
              "      <th>HS_Moderate</th>\n",
              "      <th>HS_Strong</th>\n",
              "    </tr>\n",
              "  </thead>\n",
              "  <tbody>\n",
              "    <tr>\n",
              "      <th>0</th>\n",
              "      <td>- disaat semua cowok berusaha melacak perhatia...</td>\n",
              "      <td>1</td>\n",
              "      <td>1</td>\n",
              "      <td>1</td>\n",
              "      <td>0</td>\n",
              "      <td>0</td>\n",
              "      <td>0</td>\n",
              "      <td>0</td>\n",
              "      <td>0</td>\n",
              "      <td>1</td>\n",
              "      <td>1</td>\n",
              "      <td>0</td>\n",
              "      <td>0</td>\n",
              "    </tr>\n",
              "    <tr>\n",
              "      <th>1</th>\n",
              "      <td>RT USER: USER siapa yang telat ngasih tau elu?...</td>\n",
              "      <td>0</td>\n",
              "      <td>1</td>\n",
              "      <td>0</td>\n",
              "      <td>0</td>\n",
              "      <td>0</td>\n",
              "      <td>0</td>\n",
              "      <td>0</td>\n",
              "      <td>0</td>\n",
              "      <td>0</td>\n",
              "      <td>0</td>\n",
              "      <td>0</td>\n",
              "      <td>0</td>\n",
              "    </tr>\n",
              "    <tr>\n",
              "      <th>2</th>\n",
              "      <td>41. Kadang aku berfikir, kenapa aku tetap perc...</td>\n",
              "      <td>0</td>\n",
              "      <td>0</td>\n",
              "      <td>0</td>\n",
              "      <td>0</td>\n",
              "      <td>0</td>\n",
              "      <td>0</td>\n",
              "      <td>0</td>\n",
              "      <td>0</td>\n",
              "      <td>0</td>\n",
              "      <td>0</td>\n",
              "      <td>0</td>\n",
              "      <td>0</td>\n",
              "    </tr>\n",
              "    <tr>\n",
              "      <th>3</th>\n",
              "      <td>USER USER AKU ITU AKU\\n\\nKU TAU MATAMU SIPIT T...</td>\n",
              "      <td>0</td>\n",
              "      <td>0</td>\n",
              "      <td>0</td>\n",
              "      <td>0</td>\n",
              "      <td>0</td>\n",
              "      <td>0</td>\n",
              "      <td>0</td>\n",
              "      <td>0</td>\n",
              "      <td>0</td>\n",
              "      <td>0</td>\n",
              "      <td>0</td>\n",
              "      <td>0</td>\n",
              "    </tr>\n",
              "    <tr>\n",
              "      <th>4</th>\n",
              "      <td>USER USER Kaum cebong kapir udah keliatan dong...</td>\n",
              "      <td>1</td>\n",
              "      <td>1</td>\n",
              "      <td>0</td>\n",
              "      <td>1</td>\n",
              "      <td>1</td>\n",
              "      <td>0</td>\n",
              "      <td>0</td>\n",
              "      <td>0</td>\n",
              "      <td>0</td>\n",
              "      <td>0</td>\n",
              "      <td>1</td>\n",
              "      <td>0</td>\n",
              "    </tr>\n",
              "  </tbody>\n",
              "</table>\n",
              "</div>"
            ],
            "text/plain": [
              "                                               Tweet  ...  HS_Strong\n",
              "0  - disaat semua cowok berusaha melacak perhatia...  ...          0\n",
              "1  RT USER: USER siapa yang telat ngasih tau elu?...  ...          0\n",
              "2  41. Kadang aku berfikir, kenapa aku tetap perc...  ...          0\n",
              "3  USER USER AKU ITU AKU\\n\\nKU TAU MATAMU SIPIT T...  ...          0\n",
              "4  USER USER Kaum cebong kapir udah keliatan dong...  ...          0\n",
              "\n",
              "[5 rows x 13 columns]"
            ]
          },
          "metadata": {
            "tags": []
          },
          "execution_count": 28
        }
      ]
    },
    {
      "cell_type": "code",
      "metadata": {
        "colab": {
          "base_uri": "https://localhost:8080/",
          "height": 297
        },
        "id": "-oF0u0wcfS6Z",
        "outputId": "ad46bddb-7c07-4f49-9e3c-b705383be78f"
      },
      "source": [
        "df.describe()\n"
      ],
      "execution_count": 20,
      "outputs": [
        {
          "output_type": "execute_result",
          "data": {
            "text/html": [
              "<div>\n",
              "<style scoped>\n",
              "    .dataframe tbody tr th:only-of-type {\n",
              "        vertical-align: middle;\n",
              "    }\n",
              "\n",
              "    .dataframe tbody tr th {\n",
              "        vertical-align: top;\n",
              "    }\n",
              "\n",
              "    .dataframe thead th {\n",
              "        text-align: right;\n",
              "    }\n",
              "</style>\n",
              "<table border=\"1\" class=\"dataframe\">\n",
              "  <thead>\n",
              "    <tr style=\"text-align: right;\">\n",
              "      <th></th>\n",
              "      <th>HS</th>\n",
              "      <th>Abusive</th>\n",
              "      <th>HS_Individual</th>\n",
              "      <th>HS_Group</th>\n",
              "      <th>HS_Religion</th>\n",
              "      <th>HS_Race</th>\n",
              "      <th>HS_Physical</th>\n",
              "      <th>HS_Gender</th>\n",
              "      <th>HS_Other</th>\n",
              "      <th>HS_Weak</th>\n",
              "      <th>HS_Moderate</th>\n",
              "      <th>HS_Strong</th>\n",
              "    </tr>\n",
              "  </thead>\n",
              "  <tbody>\n",
              "    <tr>\n",
              "      <th>count</th>\n",
              "      <td>13169.000000</td>\n",
              "      <td>13169.000000</td>\n",
              "      <td>13169.000000</td>\n",
              "      <td>13169.000000</td>\n",
              "      <td>13169.000000</td>\n",
              "      <td>13169.000000</td>\n",
              "      <td>13169.000000</td>\n",
              "      <td>13169.000000</td>\n",
              "      <td>13169.000000</td>\n",
              "      <td>13169.000000</td>\n",
              "      <td>13169.000000</td>\n",
              "      <td>13169.000000</td>\n",
              "    </tr>\n",
              "    <tr>\n",
              "      <th>mean</th>\n",
              "      <td>0.422280</td>\n",
              "      <td>0.382945</td>\n",
              "      <td>0.271471</td>\n",
              "      <td>0.150809</td>\n",
              "      <td>0.060217</td>\n",
              "      <td>0.042980</td>\n",
              "      <td>0.024527</td>\n",
              "      <td>0.023236</td>\n",
              "      <td>0.284000</td>\n",
              "      <td>0.256891</td>\n",
              "      <td>0.129471</td>\n",
              "      <td>0.035918</td>\n",
              "    </tr>\n",
              "    <tr>\n",
              "      <th>std</th>\n",
              "      <td>0.493941</td>\n",
              "      <td>0.486123</td>\n",
              "      <td>0.444735</td>\n",
              "      <td>0.357876</td>\n",
              "      <td>0.237898</td>\n",
              "      <td>0.202819</td>\n",
              "      <td>0.154685</td>\n",
              "      <td>0.150659</td>\n",
              "      <td>0.450954</td>\n",
              "      <td>0.436935</td>\n",
              "      <td>0.335733</td>\n",
              "      <td>0.186092</td>\n",
              "    </tr>\n",
              "    <tr>\n",
              "      <th>min</th>\n",
              "      <td>0.000000</td>\n",
              "      <td>0.000000</td>\n",
              "      <td>0.000000</td>\n",
              "      <td>0.000000</td>\n",
              "      <td>0.000000</td>\n",
              "      <td>0.000000</td>\n",
              "      <td>0.000000</td>\n",
              "      <td>0.000000</td>\n",
              "      <td>0.000000</td>\n",
              "      <td>0.000000</td>\n",
              "      <td>0.000000</td>\n",
              "      <td>0.000000</td>\n",
              "    </tr>\n",
              "    <tr>\n",
              "      <th>25%</th>\n",
              "      <td>0.000000</td>\n",
              "      <td>0.000000</td>\n",
              "      <td>0.000000</td>\n",
              "      <td>0.000000</td>\n",
              "      <td>0.000000</td>\n",
              "      <td>0.000000</td>\n",
              "      <td>0.000000</td>\n",
              "      <td>0.000000</td>\n",
              "      <td>0.000000</td>\n",
              "      <td>0.000000</td>\n",
              "      <td>0.000000</td>\n",
              "      <td>0.000000</td>\n",
              "    </tr>\n",
              "    <tr>\n",
              "      <th>50%</th>\n",
              "      <td>0.000000</td>\n",
              "      <td>0.000000</td>\n",
              "      <td>0.000000</td>\n",
              "      <td>0.000000</td>\n",
              "      <td>0.000000</td>\n",
              "      <td>0.000000</td>\n",
              "      <td>0.000000</td>\n",
              "      <td>0.000000</td>\n",
              "      <td>0.000000</td>\n",
              "      <td>0.000000</td>\n",
              "      <td>0.000000</td>\n",
              "      <td>0.000000</td>\n",
              "    </tr>\n",
              "    <tr>\n",
              "      <th>75%</th>\n",
              "      <td>1.000000</td>\n",
              "      <td>1.000000</td>\n",
              "      <td>1.000000</td>\n",
              "      <td>0.000000</td>\n",
              "      <td>0.000000</td>\n",
              "      <td>0.000000</td>\n",
              "      <td>0.000000</td>\n",
              "      <td>0.000000</td>\n",
              "      <td>1.000000</td>\n",
              "      <td>1.000000</td>\n",
              "      <td>0.000000</td>\n",
              "      <td>0.000000</td>\n",
              "    </tr>\n",
              "    <tr>\n",
              "      <th>max</th>\n",
              "      <td>1.000000</td>\n",
              "      <td>1.000000</td>\n",
              "      <td>1.000000</td>\n",
              "      <td>1.000000</td>\n",
              "      <td>1.000000</td>\n",
              "      <td>1.000000</td>\n",
              "      <td>1.000000</td>\n",
              "      <td>1.000000</td>\n",
              "      <td>1.000000</td>\n",
              "      <td>1.000000</td>\n",
              "      <td>1.000000</td>\n",
              "      <td>1.000000</td>\n",
              "    </tr>\n",
              "  </tbody>\n",
              "</table>\n",
              "</div>"
            ],
            "text/plain": [
              "                 HS       Abusive  ...   HS_Moderate     HS_Strong\n",
              "count  13169.000000  13169.000000  ...  13169.000000  13169.000000\n",
              "mean       0.422280      0.382945  ...      0.129471      0.035918\n",
              "std        0.493941      0.486123  ...      0.335733      0.186092\n",
              "min        0.000000      0.000000  ...      0.000000      0.000000\n",
              "25%        0.000000      0.000000  ...      0.000000      0.000000\n",
              "50%        0.000000      0.000000  ...      0.000000      0.000000\n",
              "75%        1.000000      1.000000  ...      0.000000      0.000000\n",
              "max        1.000000      1.000000  ...      1.000000      1.000000\n",
              "\n",
              "[8 rows x 12 columns]"
            ]
          },
          "metadata": {
            "tags": []
          },
          "execution_count": 20
        }
      ]
    },
    {
      "cell_type": "code",
      "metadata": {
        "colab": {
          "base_uri": "https://localhost:8080/",
          "height": 162
        },
        "id": "vzk04nAHDo7U",
        "outputId": "19341385-8069-4e81-bdeb-64e8fe77f5dc"
      },
      "source": [
        "df.describe(include=['O'])"
      ],
      "execution_count": 21,
      "outputs": [
        {
          "output_type": "execute_result",
          "data": {
            "text/html": [
              "<div>\n",
              "<style scoped>\n",
              "    .dataframe tbody tr th:only-of-type {\n",
              "        vertical-align: middle;\n",
              "    }\n",
              "\n",
              "    .dataframe tbody tr th {\n",
              "        vertical-align: top;\n",
              "    }\n",
              "\n",
              "    .dataframe thead th {\n",
              "        text-align: right;\n",
              "    }\n",
              "</style>\n",
              "<table border=\"1\" class=\"dataframe\">\n",
              "  <thead>\n",
              "    <tr style=\"text-align: right;\">\n",
              "      <th></th>\n",
              "      <th>Tweet</th>\n",
              "    </tr>\n",
              "  </thead>\n",
              "  <tbody>\n",
              "    <tr>\n",
              "      <th>count</th>\n",
              "      <td>13169</td>\n",
              "    </tr>\n",
              "    <tr>\n",
              "      <th>unique</th>\n",
              "      <td>13023</td>\n",
              "    </tr>\n",
              "    <tr>\n",
              "      <th>top</th>\n",
              "      <td>USER USER USER USER USER USER USER USER USER U...</td>\n",
              "    </tr>\n",
              "    <tr>\n",
              "      <th>freq</th>\n",
              "      <td>9</td>\n",
              "    </tr>\n",
              "  </tbody>\n",
              "</table>\n",
              "</div>"
            ],
            "text/plain": [
              "                                                    Tweet\n",
              "count                                               13169\n",
              "unique                                              13023\n",
              "top     USER USER USER USER USER USER USER USER USER U...\n",
              "freq                                                    9"
            ]
          },
          "metadata": {
            "tags": []
          },
          "execution_count": 21
        }
      ]
    },
    {
      "cell_type": "code",
      "metadata": {
        "colab": {
          "base_uri": "https://localhost:8080/",
          "height": 280
        },
        "id": "5DlRWTgsEtG7",
        "outputId": "a2a0a936-98cb-467e-8f1b-b8b0fa9c1e47"
      },
      "source": [
        "display(df.isnull().sum())"
      ],
      "execution_count": 22,
      "outputs": [
        {
          "output_type": "display_data",
          "data": {
            "text/plain": [
              "Tweet            0\n",
              "HS               0\n",
              "Abusive          0\n",
              "HS_Individual    0\n",
              "HS_Group         0\n",
              "HS_Religion      0\n",
              "HS_Race          0\n",
              "HS_Physical      0\n",
              "HS_Gender        0\n",
              "HS_Other         0\n",
              "HS_Weak          0\n",
              "HS_Moderate      0\n",
              "HS_Strong        0\n",
              "dtype: int64"
            ]
          },
          "metadata": {
            "tags": []
          }
        }
      ]
    },
    {
      "cell_type": "code",
      "metadata": {
        "colab": {
          "base_uri": "https://localhost:8080/",
          "height": 36
        },
        "id": "3JUzs8VKEz0n",
        "outputId": "eb039198-2acd-480d-cae9-09f03cd77fc4"
      },
      "source": [
        "display(df.duplicated().sum())"
      ],
      "execution_count": 69,
      "outputs": [
        {
          "output_type": "display_data",
          "data": {
            "text/plain": [
              "125"
            ]
          },
          "metadata": {
            "tags": []
          }
        }
      ]
    },
    {
      "cell_type": "code",
      "metadata": {
        "id": "M7XmVt4-ax2_"
      },
      "source": [
        "df.drop_duplicates(inplace=True)"
      ],
      "execution_count": 17,
      "outputs": []
    },
    {
      "cell_type": "code",
      "metadata": {
        "colab": {
          "base_uri": "https://localhost:8080/",
          "height": 36
        },
        "id": "0_-LYcSRa5GV",
        "outputId": "706b6f11-7d7f-43ab-cf60-a7cfbdcc8431"
      },
      "source": [
        "display(df.duplicated().sum())"
      ],
      "execution_count": 71,
      "outputs": [
        {
          "output_type": "display_data",
          "data": {
            "text/plain": [
              "0"
            ]
          },
          "metadata": {
            "tags": []
          }
        }
      ]
    },
    {
      "cell_type": "code",
      "metadata": {
        "id": "rM8bMvUd8jOA",
        "colab": {
          "base_uri": "https://localhost:8080/",
          "height": 391
        },
        "outputId": "9ca46c13-3f96-4277-fb62-ce7865880a6b"
      },
      "source": [
        "kamus"
      ],
      "execution_count": 45,
      "outputs": [
        {
          "output_type": "execute_result",
          "data": {
            "text/html": [
              "<div>\n",
              "<style scoped>\n",
              "    .dataframe tbody tr th:only-of-type {\n",
              "        vertical-align: middle;\n",
              "    }\n",
              "\n",
              "    .dataframe tbody tr th {\n",
              "        vertical-align: top;\n",
              "    }\n",
              "\n",
              "    .dataframe thead th {\n",
              "        text-align: right;\n",
              "    }\n",
              "</style>\n",
              "<table border=\"1\" class=\"dataframe\">\n",
              "  <thead>\n",
              "    <tr style=\"text-align: right;\">\n",
              "      <th></th>\n",
              "      <th>anakjakartaasikasik</th>\n",
              "      <th>anak jakarta asyik asyik</th>\n",
              "    </tr>\n",
              "  </thead>\n",
              "  <tbody>\n",
              "    <tr>\n",
              "      <th>0</th>\n",
              "      <td>pakcikdahtua</td>\n",
              "      <td>pak cik sudah tua</td>\n",
              "    </tr>\n",
              "    <tr>\n",
              "      <th>1</th>\n",
              "      <td>pakcikmudalagi</td>\n",
              "      <td>pak cik muda lagi</td>\n",
              "    </tr>\n",
              "    <tr>\n",
              "      <th>2</th>\n",
              "      <td>t3tapjokowi</td>\n",
              "      <td>tetap jokowi</td>\n",
              "    </tr>\n",
              "    <tr>\n",
              "      <th>3</th>\n",
              "      <td>3x</td>\n",
              "      <td>tiga kali</td>\n",
              "    </tr>\n",
              "    <tr>\n",
              "      <th>4</th>\n",
              "      <td>aamiin</td>\n",
              "      <td>amin</td>\n",
              "    </tr>\n",
              "    <tr>\n",
              "      <th>...</th>\n",
              "      <td>...</td>\n",
              "      <td>...</td>\n",
              "    </tr>\n",
              "    <tr>\n",
              "      <th>15161</th>\n",
              "      <td>mendikbud</td>\n",
              "      <td>menteri pendidikan dan kebudayaan</td>\n",
              "    </tr>\n",
              "    <tr>\n",
              "      <th>15162</th>\n",
              "      <td>mendag</td>\n",
              "      <td>menteri perdagangan</td>\n",
              "    </tr>\n",
              "    <tr>\n",
              "      <th>15163</th>\n",
              "      <td>menaker</td>\n",
              "      <td>menteri tenaga kerja</td>\n",
              "    </tr>\n",
              "    <tr>\n",
              "      <th>15164</th>\n",
              "      <td>memetwit</td>\n",
              "      <td>mentwit</td>\n",
              "    </tr>\n",
              "    <tr>\n",
              "      <th>15165</th>\n",
              "      <td>megangin</td>\n",
              "      <td>memegang</td>\n",
              "    </tr>\n",
              "  </tbody>\n",
              "</table>\n",
              "<p>15166 rows × 2 columns</p>\n",
              "</div>"
            ],
            "text/plain": [
              "      anakjakartaasikasik           anak jakarta asyik asyik\n",
              "0            pakcikdahtua                  pak cik sudah tua\n",
              "1          pakcikmudalagi                  pak cik muda lagi\n",
              "2             t3tapjokowi                       tetap jokowi\n",
              "3                      3x                          tiga kali\n",
              "4                  aamiin                               amin\n",
              "...                   ...                                ...\n",
              "15161           mendikbud  menteri pendidikan dan kebudayaan\n",
              "15162              mendag                menteri perdagangan\n",
              "15163             menaker               menteri tenaga kerja\n",
              "15164            memetwit                            mentwit\n",
              "15165            megangin                           memegang\n",
              "\n",
              "[15166 rows x 2 columns]"
            ]
          },
          "metadata": {
            "tags": []
          },
          "execution_count": 45
        }
      ]
    },
    {
      "cell_type": "code",
      "metadata": {
        "id": "Wf8hkmCjhRim"
      },
      "source": [
        "finder = pd.Series(kamus['anakjakartaasikasik']).array\n",
        "replacer = pd.Series(kamus['anak jakarta asyik asyik']).array\n",
        "df['Tweet'] = df['Tweet'].replace(finder, replacer)"
      ],
      "execution_count": 18,
      "outputs": []
    },
    {
      "cell_type": "code",
      "metadata": {
        "colab": {
          "base_uri": "https://localhost:8080/"
        },
        "id": "fH29VgwpiToz",
        "outputId": "e6a3ce1f-30b0-4553-c9c7-413071146e2f"
      },
      "source": [
        "df['Tweet']"
      ],
      "execution_count": 19,
      "outputs": [
        {
          "output_type": "execute_result",
          "data": {
            "text/plain": [
              "0        - disaat semua cowok berusaha melacak perhatia...\n",
              "1        RT USER: USER siapa yang telat ngasih tau elu?...\n",
              "2        41. Kadang aku berfikir, kenapa aku tetap perc...\n",
              "3        USER USER AKU ITU AKU\\n\\nKU TAU MATAMU SIPIT T...\n",
              "4        USER USER Kaum cebong kapir udah keliatan dong...\n",
              "                               ...                        \n",
              "13164    USER jangan asal ngomong ndasmu. congor lu yg ...\n",
              "13165                         USER Kasur mana enak kunyuk'\n",
              "13166    USER Hati hati bisu :( .g\\n\\nlagi bosan huft \\...\n",
              "13167    USER USER USER USER Bom yang real mudah terdet...\n",
              "13168    USER Mana situ ngasih(\": itu cuma foto ya kuti...\n",
              "Name: Tweet, Length: 13044, dtype: object"
            ]
          },
          "metadata": {
            "tags": []
          },
          "execution_count": 19
        }
      ]
    },
    {
      "cell_type": "code",
      "metadata": {
        "colab": {
          "base_uri": "https://localhost:8080/"
        },
        "id": "dhv8xrroYYTz",
        "outputId": "407dbe02-e3b3-4d5a-83ca-9d68bc972e03"
      },
      "source": [
        "import nltk\n",
        "from nltk.corpus import stopwords\n",
        "from nltk.stem import WordNetLemmatizer\n",
        "from nltk.tokenize import RegexpTokenizer\n",
        "nltk.download('stopwords')"
      ],
      "execution_count": 20,
      "outputs": [
        {
          "output_type": "stream",
          "text": [
            "[nltk_data] Downloading package stopwords to /root/nltk_data...\n",
            "[nltk_data]   Unzipping corpora/stopwords.zip.\n"
          ],
          "name": "stdout"
        },
        {
          "output_type": "execute_result",
          "data": {
            "text/plain": [
              "True"
            ]
          },
          "metadata": {
            "tags": []
          },
          "execution_count": 20
        }
      ]
    },
    {
      "cell_type": "code",
      "metadata": {
        "id": "zrtpC6L0U5DO"
      },
      "source": [
        "import string\n",
        "def punctuation_removal(text):\n",
        "  nopunct = \"\".join([c for c in text if c not in string.punctuation])\n",
        "  return nopunct"
      ],
      "execution_count": 21,
      "outputs": []
    },
    {
      "cell_type": "code",
      "metadata": {
        "colab": {
          "base_uri": "https://localhost:8080/"
        },
        "id": "S2p8NfC_bYTA",
        "outputId": "8d2620c8-0385-4be1-ddac-34740180138b"
      },
      "source": [
        "comment = df['Tweet'].apply(lambda x:punctuation_removal(x))\n",
        "comment"
      ],
      "execution_count": 22,
      "outputs": [
        {
          "output_type": "execute_result",
          "data": {
            "text/plain": [
              "0         disaat semua cowok berusaha melacak perhatian...\n",
              "1        RT USER USER siapa yang telat ngasih tau elued...\n",
              "2        41 Kadang aku berfikir kenapa aku tetap percay...\n",
              "3        USER USER AKU ITU AKUnnKU TAU MATAMU SIPIT TAP...\n",
              "4        USER USER Kaum cebong kapir udah keliatan dong...\n",
              "                               ...                        \n",
              "13164    USER jangan asal ngomong ndasmu congor lu yg s...\n",
              "13165                          USER Kasur mana enak kunyuk\n",
              "13166    USER Hati hati bisu  gnnlagi bosan huft xf0x9f...\n",
              "13167    USER USER USER USER Bom yang real mudah terdet...\n",
              "13168    USER Mana situ ngasih itu cuma foto ya kutil onta\n",
              "Name: Tweet, Length: 13044, dtype: object"
            ]
          },
          "metadata": {
            "tags": []
          },
          "execution_count": 22
        }
      ]
    },
    {
      "cell_type": "code",
      "metadata": {
        "id": "I6_KA3fITs0j"
      },
      "source": [
        "from nltk.stem.snowball import SnowballStemmer\n",
        "from string import punctuation\n",
        "def clean_doc(text):\n",
        "\t# split into tokens by white space\n",
        "\ttokens = text.split()\n",
        "\t# remove punctuation from each token\n",
        "\ttable = str.maketrans('', '', punctuation)\n",
        "\ttokens = [w.translate(table) for w in tokens]\n",
        "\t# remove remaining tokens that are not alphabetic\n",
        "\ttokens = [word for word in tokens if word.isalpha()]\n",
        "\t# filter out stop words\n",
        "\tstop_words = set(stopwords.words('indonesian'))\n",
        "\ttokens = [w for w in tokens if not w in stop_words]  \n",
        "\t#the stemmer requires a language parameter\n",
        "\tsnow_stemmer = SnowballStemmer(language='english')\n",
        "\ttokens = [snow_stemmer.stem(x) for x in tokens]  \n",
        "\t# filter out short tokens\n",
        "\ttokens = [word for word in tokens if len(word) > 1]\n",
        "\ttokens = ' '.join(tokens)\n",
        "\treturn tokens"
      ],
      "execution_count": 23,
      "outputs": []
    },
    {
      "cell_type": "code",
      "metadata": {
        "id": "E2VwkcyDT-bb"
      },
      "source": [
        "commento = comment.apply(lambda x:clean_doc(x))"
      ],
      "execution_count": 24,
      "outputs": []
    },
    {
      "cell_type": "code",
      "metadata": {
        "colab": {
          "base_uri": "https://localhost:8080/"
        },
        "id": "hyZE8iW0VDae",
        "outputId": "65574c17-00f6-4abc-9a37-33eaec89ae8a"
      },
      "source": [
        "commento"
      ],
      "execution_count": 25,
      "outputs": [
        {
          "output_type": "execute_result",
          "data": {
            "text/plain": [
              "0        disaat cowok berusaha melacak perhatian gue lo...\n",
              "1        rt user user telat ngasih tau eluedan sarap gu...\n",
              "2        kadang berfikir percaya tuhan jatuh berkalikal...\n",
              "3        user user aku itu akunnku tau matamu sipit tap...\n",
              "4        user user kaum cebong kapir udah keliatan dong...\n",
              "                               ...                        \n",
              "13164              user ngomong ndasmu congor lu yg anjyng\n",
              "13165                               user kasur enak kunyuk\n",
              "13166               user hati hati bisu gnnlagi bosan huft\n",
              "13167    user user user user bom real mudah terdeteksi ...\n",
              "13168             user mana situ ngasih foto ya kutil onta\n",
              "Name: Tweet, Length: 13044, dtype: object"
            ]
          },
          "metadata": {
            "tags": []
          },
          "execution_count": 25
        }
      ]
    },
    {
      "cell_type": "code",
      "metadata": {
        "colab": {
          "base_uri": "https://localhost:8080/",
          "height": 602
        },
        "id": "jwMCgmuferU4",
        "outputId": "f789858d-d2b3-46fd-f9a5-be5ac7a7d94b"
      },
      "source": [
        "df"
      ],
      "execution_count": 83,
      "outputs": [
        {
          "output_type": "execute_result",
          "data": {
            "text/html": [
              "<div>\n",
              "<style scoped>\n",
              "    .dataframe tbody tr th:only-of-type {\n",
              "        vertical-align: middle;\n",
              "    }\n",
              "\n",
              "    .dataframe tbody tr th {\n",
              "        vertical-align: top;\n",
              "    }\n",
              "\n",
              "    .dataframe thead th {\n",
              "        text-align: right;\n",
              "    }\n",
              "</style>\n",
              "<table border=\"1\" class=\"dataframe\">\n",
              "  <thead>\n",
              "    <tr style=\"text-align: right;\">\n",
              "      <th></th>\n",
              "      <th>Tweet</th>\n",
              "      <th>HS</th>\n",
              "      <th>Abusive</th>\n",
              "      <th>HS_Individual</th>\n",
              "      <th>HS_Group</th>\n",
              "      <th>HS_Religion</th>\n",
              "      <th>HS_Race</th>\n",
              "      <th>HS_Physical</th>\n",
              "      <th>HS_Gender</th>\n",
              "      <th>HS_Other</th>\n",
              "      <th>HS_Weak</th>\n",
              "      <th>HS_Moderate</th>\n",
              "      <th>HS_Strong</th>\n",
              "    </tr>\n",
              "  </thead>\n",
              "  <tbody>\n",
              "    <tr>\n",
              "      <th>0</th>\n",
              "      <td>- disaat semua cowok berusaha melacak perhatia...</td>\n",
              "      <td>1</td>\n",
              "      <td>1</td>\n",
              "      <td>1</td>\n",
              "      <td>0</td>\n",
              "      <td>0</td>\n",
              "      <td>0</td>\n",
              "      <td>0</td>\n",
              "      <td>0</td>\n",
              "      <td>1</td>\n",
              "      <td>1</td>\n",
              "      <td>0</td>\n",
              "      <td>0</td>\n",
              "    </tr>\n",
              "    <tr>\n",
              "      <th>1</th>\n",
              "      <td>RT USER: USER siapa yang telat ngasih tau elu?...</td>\n",
              "      <td>0</td>\n",
              "      <td>1</td>\n",
              "      <td>0</td>\n",
              "      <td>0</td>\n",
              "      <td>0</td>\n",
              "      <td>0</td>\n",
              "      <td>0</td>\n",
              "      <td>0</td>\n",
              "      <td>0</td>\n",
              "      <td>0</td>\n",
              "      <td>0</td>\n",
              "      <td>0</td>\n",
              "    </tr>\n",
              "    <tr>\n",
              "      <th>2</th>\n",
              "      <td>41. Kadang aku berfikir, kenapa aku tetap perc...</td>\n",
              "      <td>0</td>\n",
              "      <td>0</td>\n",
              "      <td>0</td>\n",
              "      <td>0</td>\n",
              "      <td>0</td>\n",
              "      <td>0</td>\n",
              "      <td>0</td>\n",
              "      <td>0</td>\n",
              "      <td>0</td>\n",
              "      <td>0</td>\n",
              "      <td>0</td>\n",
              "      <td>0</td>\n",
              "    </tr>\n",
              "    <tr>\n",
              "      <th>3</th>\n",
              "      <td>USER USER AKU ITU AKU\\n\\nKU TAU MATAMU SIPIT T...</td>\n",
              "      <td>0</td>\n",
              "      <td>0</td>\n",
              "      <td>0</td>\n",
              "      <td>0</td>\n",
              "      <td>0</td>\n",
              "      <td>0</td>\n",
              "      <td>0</td>\n",
              "      <td>0</td>\n",
              "      <td>0</td>\n",
              "      <td>0</td>\n",
              "      <td>0</td>\n",
              "      <td>0</td>\n",
              "    </tr>\n",
              "    <tr>\n",
              "      <th>4</th>\n",
              "      <td>USER USER Kaum cebong kapir udah keliatan dong...</td>\n",
              "      <td>1</td>\n",
              "      <td>1</td>\n",
              "      <td>0</td>\n",
              "      <td>1</td>\n",
              "      <td>1</td>\n",
              "      <td>0</td>\n",
              "      <td>0</td>\n",
              "      <td>0</td>\n",
              "      <td>0</td>\n",
              "      <td>0</td>\n",
              "      <td>1</td>\n",
              "      <td>0</td>\n",
              "    </tr>\n",
              "    <tr>\n",
              "      <th>...</th>\n",
              "      <td>...</td>\n",
              "      <td>...</td>\n",
              "      <td>...</td>\n",
              "      <td>...</td>\n",
              "      <td>...</td>\n",
              "      <td>...</td>\n",
              "      <td>...</td>\n",
              "      <td>...</td>\n",
              "      <td>...</td>\n",
              "      <td>...</td>\n",
              "      <td>...</td>\n",
              "      <td>...</td>\n",
              "      <td>...</td>\n",
              "    </tr>\n",
              "    <tr>\n",
              "      <th>13164</th>\n",
              "      <td>USER jangan asal ngomong ndasmu. congor lu yg ...</td>\n",
              "      <td>1</td>\n",
              "      <td>1</td>\n",
              "      <td>1</td>\n",
              "      <td>0</td>\n",
              "      <td>0</td>\n",
              "      <td>0</td>\n",
              "      <td>1</td>\n",
              "      <td>0</td>\n",
              "      <td>0</td>\n",
              "      <td>1</td>\n",
              "      <td>0</td>\n",
              "      <td>0</td>\n",
              "    </tr>\n",
              "    <tr>\n",
              "      <th>13165</th>\n",
              "      <td>USER Kasur mana enak kunyuk'</td>\n",
              "      <td>0</td>\n",
              "      <td>1</td>\n",
              "      <td>0</td>\n",
              "      <td>0</td>\n",
              "      <td>0</td>\n",
              "      <td>0</td>\n",
              "      <td>0</td>\n",
              "      <td>0</td>\n",
              "      <td>0</td>\n",
              "      <td>0</td>\n",
              "      <td>0</td>\n",
              "      <td>0</td>\n",
              "    </tr>\n",
              "    <tr>\n",
              "      <th>13166</th>\n",
              "      <td>USER Hati hati bisu :( .g\\n\\nlagi bosan huft \\...</td>\n",
              "      <td>0</td>\n",
              "      <td>0</td>\n",
              "      <td>0</td>\n",
              "      <td>0</td>\n",
              "      <td>0</td>\n",
              "      <td>0</td>\n",
              "      <td>0</td>\n",
              "      <td>0</td>\n",
              "      <td>0</td>\n",
              "      <td>0</td>\n",
              "      <td>0</td>\n",
              "      <td>0</td>\n",
              "    </tr>\n",
              "    <tr>\n",
              "      <th>13167</th>\n",
              "      <td>USER USER USER USER Bom yang real mudah terdet...</td>\n",
              "      <td>0</td>\n",
              "      <td>0</td>\n",
              "      <td>0</td>\n",
              "      <td>0</td>\n",
              "      <td>0</td>\n",
              "      <td>0</td>\n",
              "      <td>0</td>\n",
              "      <td>0</td>\n",
              "      <td>0</td>\n",
              "      <td>0</td>\n",
              "      <td>0</td>\n",
              "      <td>0</td>\n",
              "    </tr>\n",
              "    <tr>\n",
              "      <th>13168</th>\n",
              "      <td>USER Mana situ ngasih(\": itu cuma foto ya kuti...</td>\n",
              "      <td>1</td>\n",
              "      <td>1</td>\n",
              "      <td>1</td>\n",
              "      <td>0</td>\n",
              "      <td>0</td>\n",
              "      <td>0</td>\n",
              "      <td>0</td>\n",
              "      <td>0</td>\n",
              "      <td>1</td>\n",
              "      <td>1</td>\n",
              "      <td>0</td>\n",
              "      <td>0</td>\n",
              "    </tr>\n",
              "  </tbody>\n",
              "</table>\n",
              "<p>13044 rows × 13 columns</p>\n",
              "</div>"
            ],
            "text/plain": [
              "                                                   Tweet  ...  HS_Strong\n",
              "0      - disaat semua cowok berusaha melacak perhatia...  ...          0\n",
              "1      RT USER: USER siapa yang telat ngasih tau elu?...  ...          0\n",
              "2      41. Kadang aku berfikir, kenapa aku tetap perc...  ...          0\n",
              "3      USER USER AKU ITU AKU\\n\\nKU TAU MATAMU SIPIT T...  ...          0\n",
              "4      USER USER Kaum cebong kapir udah keliatan dong...  ...          0\n",
              "...                                                  ...  ...        ...\n",
              "13164  USER jangan asal ngomong ndasmu. congor lu yg ...  ...          0\n",
              "13165                       USER Kasur mana enak kunyuk'  ...          0\n",
              "13166  USER Hati hati bisu :( .g\\n\\nlagi bosan huft \\...  ...          0\n",
              "13167  USER USER USER USER Bom yang real mudah terdet...  ...          0\n",
              "13168  USER Mana situ ngasih(\": itu cuma foto ya kuti...  ...          0\n",
              "\n",
              "[13044 rows x 13 columns]"
            ]
          },
          "metadata": {
            "tags": []
          },
          "execution_count": 83
        }
      ]
    },
    {
      "cell_type": "code",
      "metadata": {
        "id": "hQPZMqWWFUet"
      },
      "source": [
        "comment = commento.values\n",
        "label = df[['HS',\t'Abusive'\t,'HS_Individual',\t'HS_Group'\t,'HS_Religion',\t'HS_Race',\t'HS_Physical',\t'HS_Gender'\t,'HS_Other'\t,'HS_Weak',\t'HS_Moderate'\t,'HS_Strong']].values"
      ],
      "execution_count": 26,
      "outputs": []
    },
    {
      "cell_type": "code",
      "metadata": {
        "colab": {
          "base_uri": "https://localhost:8080/"
        },
        "id": "OlVPOV_0gFJ4",
        "outputId": "6407a633-6dc0-4296-a63e-538d450c87bd"
      },
      "source": [
        "comment"
      ],
      "execution_count": 87,
      "outputs": [
        {
          "output_type": "execute_result",
          "data": {
            "text/plain": [
              "array(['disaat cowok berusaha melacak perhatian gue loe lanta remehkan perhatian yg gue kasih khusus elo basic elo cowok bego',\n",
              "       'rt user user telat ngasih tau eluedan sarap gue bergaul cigax jifla cali noh licew',\n",
              "       'kadang berfikir percaya tuhan jatuh berkalikali kadang tuhan ninggalkan ketika orangtuaku berencana berpisah kakakku memilih kristen ketika anak ter',\n",
              "       ..., 'user hati hati bisu gnnlagi bosan huft',\n",
              "       'user user user user bom real mudah terdeteksi bom terkubur dahsyat ledakannya revolusi jiwa',\n",
              "       'user mana situ ngasih foto ya kutil onta'], dtype=object)"
            ]
          },
          "metadata": {
            "tags": []
          },
          "execution_count": 87
        }
      ]
    },
    {
      "cell_type": "code",
      "metadata": {
        "colab": {
          "base_uri": "https://localhost:8080/"
        },
        "id": "n_5EpAQhhvtz",
        "outputId": "4eefc718-540f-463d-a702-7783be3de29b"
      },
      "source": [
        "label"
      ],
      "execution_count": 86,
      "outputs": [
        {
          "output_type": "execute_result",
          "data": {
            "text/plain": [
              "array([[1, 1, 1, ..., 1, 0, 0],\n",
              "       [0, 1, 0, ..., 0, 0, 0],\n",
              "       [0, 0, 0, ..., 0, 0, 0],\n",
              "       ...,\n",
              "       [0, 0, 0, ..., 0, 0, 0],\n",
              "       [0, 0, 0, ..., 0, 0, 0],\n",
              "       [1, 1, 1, ..., 1, 0, 0]])"
            ]
          },
          "metadata": {
            "tags": []
          },
          "execution_count": 86
        }
      ]
    },
    {
      "cell_type": "code",
      "metadata": {
        "id": "qAo19ZqYivYV"
      },
      "source": [
        "from tensorflow.keras.preprocessing.text import Tokenizer\n",
        "from tensorflow.keras.preprocessing.sequence import pad_sequences\n",
        " \n",
        "tokenizer = Tokenizer()\n",
        "tokenizer.fit_on_texts(comment) \n",
        " \n",
        "sekuens_latih = tokenizer.texts_to_sequences(comment)\n",
        " \n",
        "padded_comment = pad_sequences(sekuens_latih) \n"
      ],
      "execution_count": 27,
      "outputs": []
    },
    {
      "cell_type": "code",
      "metadata": {
        "colab": {
          "base_uri": "https://localhost:8080/"
        },
        "id": "f6y90WlO3GHW",
        "outputId": "01d0ddb8-7b90-4d48-e6ef-4dfd8e2dd223"
      },
      "source": [
        "padded_comment.shape"
      ],
      "execution_count": 28,
      "outputs": [
        {
          "output_type": "execute_result",
          "data": {
            "text/plain": [
              "(13044, 48)"
            ]
          },
          "metadata": {
            "tags": []
          },
          "execution_count": 28
        }
      ]
    },
    {
      "cell_type": "code",
      "metadata": {
        "id": "3WP-3Pf8p_g1"
      },
      "source": [
        "from sklearn.model_selection import train_test_split\n",
        "comment_train, comment_test, label_train, label_test = train_test_split(padded_comment, label, test_size=0.2)"
      ],
      "execution_count": 29,
      "outputs": []
    },
    {
      "cell_type": "code",
      "metadata": {
        "colab": {
          "base_uri": "https://localhost:8080/"
        },
        "id": "C8QWL1CxnKA9",
        "outputId": "acb0ec49-8ed0-4dba-8ad9-9cfe7cd02eb7"
      },
      "source": [
        "comment_train"
      ],
      "execution_count": 124,
      "outputs": [
        {
          "output_type": "execute_result",
          "data": {
            "text/plain": [
              "array([[    0,     0,     0, ..., 24487, 10794,   337],\n",
              "       [    0,     0,     0, ...,  4494,   357,  6184],\n",
              "       [    0,     0,     0, ...,  5953,  5954,  4821],\n",
              "       ...,\n",
              "       [    0,     0,     0, ...,    12,   105,   116],\n",
              "       [    0,     0,     0, ..., 25144,   770,   178],\n",
              "       [    0,     0,     0, ...,   167,  1455,  1924]], dtype=int32)"
            ]
          },
          "metadata": {
            "tags": []
          },
          "execution_count": 124
        }
      ]
    },
    {
      "cell_type": "code",
      "metadata": {
        "colab": {
          "base_uri": "https://localhost:8080/"
        },
        "id": "dLk0UQZAIWRv",
        "outputId": "92ab98af-c079-414a-e5ff-f6166cf42a4d"
      },
      "source": [
        "comment_train.shape"
      ],
      "execution_count": 119,
      "outputs": [
        {
          "output_type": "execute_result",
          "data": {
            "text/plain": [
              "(10435, 48)"
            ]
          },
          "metadata": {
            "tags": []
          },
          "execution_count": 119
        }
      ]
    },
    {
      "cell_type": "code",
      "metadata": {
        "colab": {
          "base_uri": "https://localhost:8080/"
        },
        "id": "EtN9Ig2CPXt8",
        "outputId": "73a10640-a6aa-45e2-8bd6-74985dcf3f8a"
      },
      "source": [
        "comment_test.shape"
      ],
      "execution_count": 120,
      "outputs": [
        {
          "output_type": "execute_result",
          "data": {
            "text/plain": [
              "(2609, 48)"
            ]
          },
          "metadata": {
            "tags": []
          },
          "execution_count": 120
        }
      ]
    },
    {
      "cell_type": "code",
      "metadata": {
        "colab": {
          "base_uri": "https://localhost:8080/"
        },
        "id": "ofCXWtN6nSDu",
        "outputId": "42f2d65c-3cf8-4f65-fa65-de58fbee63fc"
      },
      "source": [
        "label_train"
      ],
      "execution_count": 125,
      "outputs": [
        {
          "output_type": "execute_result",
          "data": {
            "text/plain": [
              "array([[1, 1, 1, ..., 1, 0, 0],\n",
              "       [1, 0, 1, ..., 1, 0, 0],\n",
              "       [0, 0, 0, ..., 0, 0, 0],\n",
              "       ...,\n",
              "       [1, 1, 0, ..., 0, 1, 0],\n",
              "       [0, 0, 0, ..., 0, 0, 0],\n",
              "       [1, 1, 1, ..., 1, 0, 0]])"
            ]
          },
          "metadata": {
            "tags": []
          },
          "execution_count": 125
        }
      ]
    },
    {
      "cell_type": "code",
      "metadata": {
        "colab": {
          "base_uri": "https://localhost:8080/"
        },
        "id": "rQN2uo8ilg5U",
        "outputId": "2cfd45aa-b054-4e3f-a266-ffd58d7f6331"
      },
      "source": [
        "label_train.shape"
      ],
      "execution_count": 121,
      "outputs": [
        {
          "output_type": "execute_result",
          "data": {
            "text/plain": [
              "(10435, 12)"
            ]
          },
          "metadata": {
            "tags": []
          },
          "execution_count": 121
        }
      ]
    },
    {
      "cell_type": "code",
      "metadata": {
        "colab": {
          "base_uri": "https://localhost:8080/"
        },
        "id": "Wg5aZxVTlkRe",
        "outputId": "20de8edf-fb8a-4cff-e6d6-924c82235e4f"
      },
      "source": [
        "label_test.shape"
      ],
      "execution_count": 122,
      "outputs": [
        {
          "output_type": "execute_result",
          "data": {
            "text/plain": [
              "(2609, 12)"
            ]
          },
          "metadata": {
            "tags": []
          },
          "execution_count": 122
        }
      ]
    },
    {
      "cell_type": "code",
      "metadata": {
        "id": "Twrp6pS_XCiI"
      },
      "source": [
        "def max_length(lines):\n",
        "\treturn max([len(s.split()) for s in lines])"
      ],
      "execution_count": 30,
      "outputs": []
    },
    {
      "cell_type": "code",
      "metadata": {
        "id": "HI-CiyCBXFT4"
      },
      "source": [
        "length = max_length(comment)"
      ],
      "execution_count": 31,
      "outputs": []
    },
    {
      "cell_type": "code",
      "metadata": {
        "colab": {
          "base_uri": "https://localhost:8080/"
        },
        "id": "lHI8i3bBZ8eH",
        "outputId": "8f23a4a5-badc-41f1-b038-322e0205b80c"
      },
      "source": [
        "length"
      ],
      "execution_count": 96,
      "outputs": [
        {
          "output_type": "execute_result",
          "data": {
            "text/plain": [
              "48"
            ]
          },
          "metadata": {
            "tags": []
          },
          "execution_count": 96
        }
      ]
    },
    {
      "cell_type": "code",
      "metadata": {
        "id": "VdPhwTUfWfPE"
      },
      "source": [
        "vocab_size = len(tokenizer.word_index) + 1"
      ],
      "execution_count": 32,
      "outputs": []
    },
    {
      "cell_type": "code",
      "metadata": {
        "colab": {
          "base_uri": "https://localhost:8080/"
        },
        "id": "_TLju-hXZ_My",
        "outputId": "bb7660b7-d3c5-4fc3-cba5-69b4f12ef9d6"
      },
      "source": [
        "vocab_size"
      ],
      "execution_count": 33,
      "outputs": [
        {
          "output_type": "execute_result",
          "data": {
            "text/plain": [
              "29038"
            ]
          },
          "metadata": {
            "tags": []
          },
          "execution_count": 33
        }
      ]
    },
    {
      "cell_type": "code",
      "metadata": {
        "id": "f_oawh4GrsKW"
      },
      "source": [
        "from keras.models import Model\n",
        "from keras.layers import Input\n",
        "from keras.layers import Dense\n",
        "from keras.layers import Flatten\n",
        "from keras.layers import Dropout\n",
        "from keras.layers import Embedding\n",
        "from keras.layers import LSTM\n",
        "from keras.layers import Dense\n",
        "from keras.layers import TimeDistributed\n",
        "from keras.layers import Bidirectional\n",
        "from keras.layers.convolutional import Conv1D\n",
        "from keras.layers.convolutional import MaxPooling1D\n",
        "from keras.layers.merge import concatenate\n",
        "from keras.utils.vis_utils import plot_model\n",
        "from keras.models import Sequential\n",
        "from keras.layers import Dense\n",
        "from keras.layers import Flatten\n",
        "from keras.layers import Embedding\n",
        "from keras.layers.convolutional import Conv1D"
      ],
      "execution_count": 72,
      "outputs": []
    },
    {
      "cell_type": "code",
      "metadata": {
        "id": "8Gph4e-szDyS"
      },
      "source": [
        ""
      ],
      "execution_count": 90,
      "outputs": []
    },
    {
      "cell_type": "code",
      "metadata": {
        "colab": {
          "base_uri": "https://localhost:8080/"
        },
        "id": "G-2yG2gAyLSG",
        "outputId": "bdadc60b-7678-4d0c-e84d-ea8e0f282735"
      },
      "source": [
        "model = Sequential()\n",
        "model.add(Embedding(vocab_size, 30, input_length=length))\n",
        "model.add(Conv1D(filters=24, kernel_size=4, activation='relu'))\n",
        "model.add(Dropout(0.2))\n",
        "model.add(MaxPooling1D(pool_size=4))\n",
        "model.add(Flatten())\n",
        "model.add(Dense(24, activation='relu'))\n",
        "model.add(Dense(12, activation='softmax'))\n",
        "print(model.summary())\n",
        "# compile network\n",
        "model.compile(loss='binary_crossentropy', optimizer='SGD', metrics=['accuracy'])"
      ],
      "execution_count": 138,
      "outputs": [
        {
          "output_type": "stream",
          "text": [
            "Model: \"sequential_22\"\n",
            "_________________________________________________________________\n",
            "Layer (type)                 Output Shape              Param #   \n",
            "=================================================================\n",
            "embedding_54 (Embedding)     (None, 48, 30)            871140    \n",
            "_________________________________________________________________\n",
            "conv1d_40 (Conv1D)           (None, 45, 24)            2904      \n",
            "_________________________________________________________________\n",
            "dropout_27 (Dropout)         (None, 45, 24)            0         \n",
            "_________________________________________________________________\n",
            "max_pooling1d_36 (MaxPooling (None, 11, 24)            0         \n",
            "_________________________________________________________________\n",
            "flatten_34 (Flatten)         (None, 264)               0         \n",
            "_________________________________________________________________\n",
            "dense_59 (Dense)             (None, 24)                6360      \n",
            "_________________________________________________________________\n",
            "dense_60 (Dense)             (None, 12)                300       \n",
            "=================================================================\n",
            "Total params: 880,704\n",
            "Trainable params: 880,704\n",
            "Non-trainable params: 0\n",
            "_________________________________________________________________\n",
            "None\n"
          ],
          "name": "stdout"
        }
      ]
    },
    {
      "cell_type": "code",
      "metadata": {
        "colab": {
          "base_uri": "https://localhost:8080/",
          "height": 865
        },
        "id": "8sRyee2QF7DI",
        "outputId": "52d28f0b-ac2f-40e7-f2ae-47d7687bb802"
      },
      "source": [
        "plot_model(model, show_shapes=True, to_file='archi.png')"
      ],
      "execution_count": 143,
      "outputs": [
        {
          "output_type": "execute_result",
          "data": {
            "image/png": "[encoded data removed]",
            "text/plain": [
              "<IPython.core.display.Image object>"
            ]
          },
          "metadata": {
            "tags": []
          },
          "execution_count": 143
        }
      ]
    },
    {
      "cell_type": "code",
      "metadata": {
        "colab": {
          "base_uri": "https://localhost:8080/"
        },
        "id": "fq3dswhW0_sk",
        "outputId": "6ed2d618-e280-4e17-8837-a4cb59f63de8"
      },
      "source": [
        "history = model.fit(comment_train, label_train, epochs=20,validation_data=(comment_test, label_test), verbose=2)"
      ],
      "execution_count": 139,
      "outputs": [
        {
          "output_type": "stream",
          "text": [
            "Epoch 1/20\n",
            "327/327 - 2s - loss: 0.6431 - accuracy: 0.0414 - val_loss: 0.5785 - val_accuracy: 0.1334\n",
            "Epoch 2/20\n",
            "327/327 - 2s - loss: 0.4819 - accuracy: 0.1328 - val_loss: 0.4326 - val_accuracy: 0.1345\n",
            "Epoch 3/20\n",
            "327/327 - 2s - loss: 0.4077 - accuracy: 0.4226 - val_loss: 0.4032 - val_accuracy: 0.8130\n",
            "Epoch 4/20\n",
            "327/327 - 2s - loss: 0.3962 - accuracy: 0.8176 - val_loss: 0.3983 - val_accuracy: 0.8494\n",
            "Epoch 5/20\n",
            "327/327 - 2s - loss: 0.3942 - accuracy: 0.8444 - val_loss: 0.3963 - val_accuracy: 0.8609\n",
            "Epoch 6/20\n",
            "327/327 - 2s - loss: 0.3936 - accuracy: 0.8577 - val_loss: 0.3951 - val_accuracy: 0.8586\n",
            "Epoch 7/20\n",
            "327/327 - 2s - loss: 0.3933 - accuracy: 0.8562 - val_loss: 0.3942 - val_accuracy: 0.8605\n",
            "Epoch 8/20\n",
            "327/327 - 2s - loss: 0.3930 - accuracy: 0.8573 - val_loss: 0.3946 - val_accuracy: 0.8609\n",
            "Epoch 9/20\n",
            "327/327 - 2s - loss: 0.3927 - accuracy: 0.8583 - val_loss: 0.3939 - val_accuracy: 0.8582\n",
            "Epoch 10/20\n",
            "327/327 - 2s - loss: 0.3926 - accuracy: 0.8563 - val_loss: 0.3935 - val_accuracy: 0.8559\n",
            "Epoch 11/20\n",
            "327/327 - 2s - loss: 0.3924 - accuracy: 0.8543 - val_loss: 0.3941 - val_accuracy: 0.8589\n",
            "Epoch 12/20\n",
            "327/327 - 2s - loss: 0.3923 - accuracy: 0.8574 - val_loss: 0.3929 - val_accuracy: 0.8559\n",
            "Epoch 13/20\n",
            "327/327 - 2s - loss: 0.3922 - accuracy: 0.8509 - val_loss: 0.3939 - val_accuracy: 0.8578\n",
            "Epoch 14/20\n",
            "327/327 - 2s - loss: 0.3920 - accuracy: 0.8525 - val_loss: 0.3929 - val_accuracy: 0.8563\n",
            "Epoch 15/20\n",
            "327/327 - 2s - loss: 0.3919 - accuracy: 0.8517 - val_loss: 0.3931 - val_accuracy: 0.8421\n",
            "Epoch 16/20\n",
            "327/327 - 2s - loss: 0.3918 - accuracy: 0.8404 - val_loss: 0.3933 - val_accuracy: 0.8582\n",
            "Epoch 17/20\n",
            "327/327 - 2s - loss: 0.3916 - accuracy: 0.8316 - val_loss: 0.3923 - val_accuracy: 0.8589\n",
            "Epoch 18/20\n",
            "327/327 - 2s - loss: 0.3915 - accuracy: 0.8217 - val_loss: 0.3936 - val_accuracy: 0.8605\n",
            "Epoch 19/20\n",
            "327/327 - 2s - loss: 0.3914 - accuracy: 0.8206 - val_loss: 0.3930 - val_accuracy: 0.8605\n",
            "Epoch 20/20\n",
            "327/327 - 2s - loss: 0.3914 - accuracy: 0.8071 - val_loss: 0.3930 - val_accuracy: 0.8076\n"
          ],
          "name": "stdout"
        }
      ]
    },
    {
      "cell_type": "code",
      "metadata": {
        "colab": {
          "base_uri": "https://localhost:8080/",
          "height": 295
        },
        "id": "laUQJ2_-Ez_J",
        "outputId": "353fcdf5-76a8-4b4f-f491-1f99d76660f9"
      },
      "source": [
        "import matplotlib.pyplot as plt\n",
        "\n",
        "# summarize history for accuracy\n",
        "plt.plot(history.history['accuracy'])\n",
        "plt.plot(history.history['val_accuracy'])\n",
        "plt.title('model accuracy')\n",
        "plt.ylabel('accuracy')\n",
        "plt.xlabel('epoch')\n",
        "plt.legend(['train', 'test'], loc='upper left')\n",
        "plt.show()\n"
      ],
      "execution_count": 140,
      "outputs": [
        {
          "output_type": "display_data",
          "data": {
            "image/png": "[encoded data removed]",
            "text/plain": [
              "<Figure size 432x288 with 1 Axes>"
            ]
          },
          "metadata": {
            "tags": [],
            "needs_background": "light"
          }
        }
      ]
    },
    {
      "cell_type": "code",
      "metadata": {
        "colab": {
          "base_uri": "https://localhost:8080/",
          "height": 295
        },
        "id": "NcxQdQe8Fank",
        "outputId": "b5ee88e2-6571-41fc-e1e5-7ab92d8b1885"
      },
      "source": [
        "# summarize history for loss\n",
        "plt.plot(history.history['loss'])\n",
        "plt.plot(history.history['val_loss'])\n",
        "plt.title('model loss')\n",
        "plt.ylabel('loss')\n",
        "plt.xlabel('epoch')\n",
        "plt.legend(['train', 'test'], loc='upper left')\n",
        "plt.show()"
      ],
      "execution_count": 141,
      "outputs": [
        {
          "output_type": "display_data",
          "data": {
            "image/png": "[encoded data removed]",
            "text/plain": [
              "<Figure size 432x288 with 1 Axes>"
            ]
          },
          "metadata": {
            "tags": [],
            "needs_background": "light"
          }
        }
      ]
    },
    {
      "cell_type": "code",
      "metadata": {
        "id": "Xa-Eh49ABXt6"
      },
      "source": [
        "model.save('abusivetext_best_model.h5')"
      ],
      "execution_count": 142,
      "outputs": []
    }
  ]
}